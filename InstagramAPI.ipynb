{
  "nbformat": 4,
  "nbformat_minor": 0,
  "metadata": {
    "colab": {
      "name": "InstagramAPI.ipynb",
      "provenance": [],
      "collapsed_sections": [],
      "authorship_tag": "ABX9TyMuUvVE+UxmpbnhGMmTbII7",
      "include_colab_link": true
    },
    "kernelspec": {
      "name": "python3",
      "display_name": "Python 3"
    }
  },
  "cells": [
    {
      "cell_type": "markdown",
      "metadata": {
        "id": "view-in-github",
        "colab_type": "text"
      },
      "source": [
        "<a href=\"https://colab.research.google.com/github/jeffyi18/instagram-data-collector/blob/master/InstagramAPI.ipynb\" target=\"_parent\"><img src=\"https://colab.research.google.com/assets/colab-badge.svg\" alt=\"Open In Colab\"/></a>"
      ]
    },
    {
      "cell_type": "code",
      "metadata": {
        "id": "I_t4eFuyh4H2",
        "outputId": "d6f36f8d-7634-49a9-f4de-1893881c71d2",
        "colab": {
          "base_uri": "https://localhost:8080/",
          "height": 102
        }
      },
      "source": [
        "!pip install pandas\n"
      ],
      "execution_count": null,
      "outputs": [
        {
          "output_type": "stream",
          "text": [
            "Requirement already satisfied: pandas in /usr/local/lib/python3.6/dist-packages (1.0.5)\n",
            "Requirement already satisfied: pytz>=2017.2 in /usr/local/lib/python3.6/dist-packages (from pandas) (2018.9)\n",
            "Requirement already satisfied: python-dateutil>=2.6.1 in /usr/local/lib/python3.6/dist-packages (from pandas) (2.8.1)\n",
            "Requirement already satisfied: numpy>=1.13.3 in /usr/local/lib/python3.6/dist-packages (from pandas) (1.18.5)\n",
            "Requirement already satisfied: six>=1.5 in /usr/local/lib/python3.6/dist-packages (from python-dateutil>=2.6.1->pandas) (1.15.0)\n"
          ],
          "name": "stdout"
        }
      ]
    },
    {
      "cell_type": "code",
      "metadata": {
        "id": "74aSalTQxYc4",
        "outputId": "68a5bbf6-3c8b-4f77-fcaa-ce3df795a4c5",
        "colab": {
          "base_uri": "https://localhost:8080/",
          "height": 34
        }
      },
      "source": [
        "!git init\n"
      ],
      "execution_count": 1,
      "outputs": [
        {
          "output_type": "stream",
          "text": [
            "Initialized empty Git repository in /content/.git/\n"
          ],
          "name": "stdout"
        }
      ]
    },
    {
      "cell_type": "code",
      "metadata": {
        "id": "ST6oW1OUxiJM",
        "outputId": "1eddfd64-f0af-466a-cd8d-349afeae4ffb",
        "colab": {
          "base_uri": "https://localhost:8080/",
          "height": 1000
        }
      },
      "source": [
        "!git config - global user.email \"jeffyi.kyu@gmail.com\"\n",
        "!git config - global user.name \"jeffyi18\""
      ],
      "execution_count": 2,
      "outputs": [
        {
          "output_type": "stream",
          "text": [
            "usage: git config [<options>]\n",
            "\n",
            "Config file location\n",
            "    --global              use global config file\n",
            "    --system              use system config file\n",
            "    --local               use repository config file\n",
            "    -f, --file <file>     use given config file\n",
            "    --blob <blob-id>      read config from given blob object\n",
            "\n",
            "Action\n",
            "    --get                 get value: name [value-regex]\n",
            "    --get-all             get all values: key [value-regex]\n",
            "    --get-regexp          get values for regexp: name-regex [value-regex]\n",
            "    --get-urlmatch        get value specific for the URL: section[.var] URL\n",
            "    --replace-all         replace all matching variables: name value [value_regex]\n",
            "    --add                 add a new variable: name value\n",
            "    --unset               remove a variable: name [value-regex]\n",
            "    --unset-all           remove all matches: name [value-regex]\n",
            "    --rename-section      rename section: old-name new-name\n",
            "    --remove-section      remove a section: name\n",
            "    -l, --list            list all\n",
            "    -e, --edit            open an editor\n",
            "    --get-color           find the color configured: slot [default]\n",
            "    --get-colorbool       find the color setting: slot [stdout-is-tty]\n",
            "\n",
            "Type\n",
            "    --bool                value is \"true\" or \"false\"\n",
            "    --int                 value is decimal number\n",
            "    --bool-or-int         value is --bool or --int\n",
            "    --path                value is a path (file or directory name)\n",
            "    --expiry-date         value is an expiry date\n",
            "\n",
            "Other\n",
            "    -z, --null            terminate values with NUL byte\n",
            "    --name-only           show variable names only\n",
            "    --includes            respect include directives on lookup\n",
            "    --show-origin         show origin of config (file, standard input, blob, command line)\n",
            "\n",
            "usage: git config [<options>]\n",
            "\n",
            "Config file location\n",
            "    --global              use global config file\n",
            "    --system              use system config file\n",
            "    --local               use repository config file\n",
            "    -f, --file <file>     use given config file\n",
            "    --blob <blob-id>      read config from given blob object\n",
            "\n",
            "Action\n",
            "    --get                 get value: name [value-regex]\n",
            "    --get-all             get all values: key [value-regex]\n",
            "    --get-regexp          get values for regexp: name-regex [value-regex]\n",
            "    --get-urlmatch        get value specific for the URL: section[.var] URL\n",
            "    --replace-all         replace all matching variables: name value [value_regex]\n",
            "    --add                 add a new variable: name value\n",
            "    --unset               remove a variable: name [value-regex]\n",
            "    --unset-all           remove all matches: name [value-regex]\n",
            "    --rename-section      rename section: old-name new-name\n",
            "    --remove-section      remove a section: name\n",
            "    -l, --list            list all\n",
            "    -e, --edit            open an editor\n",
            "    --get-color           find the color configured: slot [default]\n",
            "    --get-colorbool       find the color setting: slot [stdout-is-tty]\n",
            "\n",
            "Type\n",
            "    --bool                value is \"true\" or \"false\"\n",
            "    --int                 value is decimal number\n",
            "    --bool-or-int         value is --bool or --int\n",
            "    --path                value is a path (file or directory name)\n",
            "    --expiry-date         value is an expiry date\n",
            "\n",
            "Other\n",
            "    -z, --null            terminate values with NUL byte\n",
            "    --name-only           show variable names only\n",
            "    --includes            respect include directives on lookup\n",
            "    --show-origin         show origin of config (file, standard input, blob, command line)\n",
            "\n"
          ],
          "name": "stdout"
        }
      ]
    },
    {
      "cell_type": "code",
      "metadata": {
        "id": "XUN79qeVxr1n",
        "outputId": "6075f853-c2b1-431a-d2b3-42d16ff56719",
        "colab": {
          "base_uri": "https://localhost:8080/",
          "height": 357
        }
      },
      "source": [
        "!git add -InstagramAPI.ipynb"
      ],
      "execution_count": 4,
      "outputs": [
        {
          "output_type": "stream",
          "text": [
            "error: unknown switch `I'\n",
            "usage: git add [<options>] [--] <pathspec>...\n",
            "\n",
            "    -n, --dry-run         dry run\n",
            "    -v, --verbose         be verbose\n",
            "\n",
            "    -i, --interactive     interactive picking\n",
            "    -p, --patch           select hunks interactively\n",
            "    -e, --edit            edit current diff and apply\n",
            "    -f, --force           allow adding otherwise ignored files\n",
            "    -u, --update          update tracked files\n",
            "    --renormalize         renormalize EOL of tracked files (implies -u)\n",
            "    -N, --intent-to-add   record only the fact that the path will be added later\n",
            "    -A, --all             add changes from all tracked and untracked files\n",
            "    --ignore-removal      ignore paths removed in the working tree (same as --no-all)\n",
            "    --refresh             don't add, only refresh the index\n",
            "    --ignore-errors       just skip files which cannot be added because of errors\n",
            "    --ignore-missing      check if - even missing - files are ignored in dry run\n",
            "    --chmod <(+/-)x>      override the executable bit of the listed files\n",
            "\n"
          ],
          "name": "stdout"
        }
      ]
    },
    {
      "cell_type": "code",
      "metadata": {
        "id": "B1m0IS6Qh_j3",
        "outputId": "726dc199-7470-42c4-9f0b-481fe39190ad",
        "colab": {
          "base_uri": "https://localhost:8080/",
          "height": 1000
        }
      },
      "source": [
        " !pip install InstagramApi"
      ],
      "execution_count": null,
      "outputs": [
        {
          "output_type": "stream",
          "text": [
            "Collecting InstagramApi\n",
            "  Downloading https://files.pythonhosted.org/packages/15/6d/f7eba7679fb40acb33ac75960c1aff269c2a75b32aff106266c85e3c0b93/InstagramAPI-1.0.2.tar.gz\n",
            "Collecting requests==2.11.1\n",
            "\u001b[?25l  Downloading https://files.pythonhosted.org/packages/ea/03/92d3278bf8287c5caa07dbd9ea139027d5a3592b0f4d14abf072f890fab2/requests-2.11.1-py2.py3-none-any.whl (514kB)\n",
            "\u001b[K     |████████████████████████████████| 522kB 4.0MB/s \n",
            "\u001b[?25hCollecting requests-toolbelt==0.7.0\n",
            "\u001b[?25l  Downloading https://files.pythonhosted.org/packages/57/60/cc85ca45c85585191e70e21687aeaa74ec4e555a1404628ba77b8af7d92e/requests_toolbelt-0.7.0-py2.py3-none-any.whl (52kB)\n",
            "\u001b[K     |████████████████████████████████| 61kB 5.6MB/s \n",
            "\u001b[?25hCollecting moviepy==0.2.3.2\n",
            "\u001b[?25l  Downloading https://files.pythonhosted.org/packages/e4/1f/fb4b8d9397f7952fcb594cb5df3061f00debae7ea92b3be9881c18b905ab/moviepy-0.2.3.2-py2.py3-none-any.whl (122kB)\n",
            "\u001b[K     |████████████████████████████████| 133kB 12.8MB/s \n",
            "\u001b[?25hCollecting imageio==2.1.2\n",
            "\u001b[?25l  Downloading https://files.pythonhosted.org/packages/68/31/55cad23b6bd32afee6e4c7eec2f15266665879f8eaf812e3b843205d41ad/imageio-2.1.2.zip (3.3MB)\n",
            "\u001b[K     |████████████████████████████████| 3.3MB 8.3MB/s \n",
            "\u001b[?25hCollecting decorator==4.0.11\n",
            "  Downloading https://files.pythonhosted.org/packages/00/cc/dd79ea98a0ff5a01d714c37eddd99cd0a71557113f1511921d1ef9a083b8/decorator-4.0.11-py2.py3-none-any.whl\n",
            "Requirement already satisfied: numpy in /usr/local/lib/python3.6/dist-packages (from moviepy==0.2.3.2->InstagramApi) (1.18.5)\n",
            "Collecting tqdm==4.11.2\n",
            "\u001b[?25l  Downloading https://files.pythonhosted.org/packages/b7/0d/174388e99e21ee2c91ea318994c3f8744e26158e43cff0ec9d045bf08a96/tqdm-4.11.2-py2.py3-none-any.whl (46kB)\n",
            "\u001b[K     |████████████████████████████████| 51kB 4.4MB/s \n",
            "\u001b[?25hRequirement already satisfied: pillow in /usr/local/lib/python3.6/dist-packages (from imageio==2.1.2->moviepy==0.2.3.2->InstagramApi) (7.0.0)\n",
            "Building wheels for collected packages: InstagramApi, imageio\n",
            "  Building wheel for InstagramApi (setup.py) ... \u001b[?25l\u001b[?25hdone\n",
            "  Created wheel for InstagramApi: filename=InstagramAPI-1.0.2-cp36-none-any.whl size=14021 sha256=7b46b6367782f7da9d6d8a728b9b171dcba46b708b7942525eb1c8fbdf9db9f4\n",
            "  Stored in directory: /root/.cache/pip/wheels/6c/00/8f/ff713f248704d409ad2c2fc1352ce62b2b4d7d12a75267a911\n",
            "  Building wheel for imageio (setup.py) ... \u001b[?25l\u001b[?25hdone\n",
            "  Created wheel for imageio: filename=imageio-2.1.2-cp36-none-any.whl size=3248801 sha256=87e9f762bb7fa85cdcaddafc623c0dc4dcc2f49b33a50742e22df862157e9f86\n",
            "  Stored in directory: /root/.cache/pip/wheels/46/d7/61/fe435bf3dc20403ff38ffed213528ae710b4301ac6b403c582\n",
            "Successfully built InstagramApi imageio\n",
            "\u001b[31mERROR: tensorflow-datasets 2.1.0 has requirement requests>=2.19.0, but you'll have requests 2.11.1 which is incompatible.\u001b[0m\n",
            "\u001b[31mERROR: tensorboard 2.3.0 has requirement requests<3,>=2.21.0, but you'll have requests 2.11.1 which is incompatible.\u001b[0m\n",
            "\u001b[31mERROR: spacy 2.2.4 has requirement requests<3.0.0,>=2.13.0, but you'll have requests 2.11.1 which is incompatible.\u001b[0m\n",
            "\u001b[31mERROR: spacy 2.2.4 has requirement tqdm<5.0.0,>=4.38.0, but you'll have tqdm 4.11.2 which is incompatible.\u001b[0m\n",
            "\u001b[31mERROR: scikit-image 0.16.2 has requirement imageio>=2.3.0, but you'll have imageio 2.1.2 which is incompatible.\u001b[0m\n",
            "\u001b[31mERROR: networkx 2.5 has requirement decorator>=4.3.0, but you'll have decorator 4.0.11 which is incompatible.\u001b[0m\n",
            "\u001b[31mERROR: nbclient 0.5.0 has requirement jupyter-client>=6.1.5, but you'll have jupyter-client 5.3.5 which is incompatible.\u001b[0m\n",
            "\u001b[31mERROR: google-colab 1.0.0 has requirement requests~=2.23.0, but you'll have requests 2.11.1 which is incompatible.\u001b[0m\n",
            "\u001b[31mERROR: google-api-core 1.16.0 has requirement requests<3.0.0dev,>=2.18.0, but you'll have requests 2.11.1 which is incompatible.\u001b[0m\n",
            "\u001b[31mERROR: fbprophet 0.7.1 has requirement tqdm>=4.36.1, but you'll have tqdm 4.11.2 which is incompatible.\u001b[0m\n",
            "\u001b[31mERROR: datascience 0.10.6 has requirement folium==0.2.1, but you'll have folium 0.8.3 which is incompatible.\u001b[0m\n",
            "\u001b[31mERROR: albumentations 0.1.12 has requirement imgaug<0.2.7,>=0.2.5, but you'll have imgaug 0.2.9 which is incompatible.\u001b[0m\n",
            "Installing collected packages: requests, requests-toolbelt, imageio, decorator, tqdm, moviepy, InstagramApi\n",
            "  Found existing installation: requests 2.23.0\n",
            "    Uninstalling requests-2.23.0:\n",
            "      Successfully uninstalled requests-2.23.0\n",
            "  Found existing installation: imageio 2.4.1\n",
            "    Uninstalling imageio-2.4.1:\n",
            "      Successfully uninstalled imageio-2.4.1\n",
            "  Found existing installation: decorator 4.4.2\n",
            "    Uninstalling decorator-4.4.2:\n",
            "      Successfully uninstalled decorator-4.4.2\n",
            "  Found existing installation: tqdm 4.41.1\n",
            "    Uninstalling tqdm-4.41.1:\n",
            "      Successfully uninstalled tqdm-4.41.1\n",
            "  Found existing installation: moviepy 0.2.3.5\n",
            "    Uninstalling moviepy-0.2.3.5:\n",
            "      Successfully uninstalled moviepy-0.2.3.5\n",
            "Successfully installed InstagramApi-1.0.2 decorator-4.0.11 imageio-2.1.2 moviepy-0.2.3.2 requests-2.11.1 requests-toolbelt-0.7.0 tqdm-4.11.2\n"
          ],
          "name": "stdout"
        },
        {
          "output_type": "display_data",
          "data": {
            "application/vnd.colab-display-data+json": {
              "pip_warning": {
                "packages": [
                  "decorator"
                ]
              }
            }
          },
          "metadata": {
            "tags": []
          }
        }
      ]
    },
    {
      "cell_type": "code",
      "metadata": {
        "id": "rmhm2eNbiyRU"
      },
      "source": [
        "from InstagramAPI import InstagramAPI\n",
        "import pandas as pd\n",
        "from pandas.io.json import json_normalize"
      ],
      "execution_count": null,
      "outputs": []
    },
    {
      "cell_type": "code",
      "metadata": {
        "id": "m2YdfFaxq8Re",
        "outputId": "3c2e5b6c-7f57-41ee-8a67-36c2887a6bbd",
        "colab": {
          "base_uri": "https://localhost:8080/",
          "height": 102
        }
      },
      "source": [
        "def login_to_instagram(username, password):\n",
        "    api = InstagramAPI(username, password)\n",
        "    api.login()\n",
        "    \n",
        "    return api\n",
        "api = login_to_instagram('jeff.yi', 'Basketball123');"
      ],
      "execution_count": null,
      "outputs": [
        {
          "output_type": "stream",
          "text": [
            "Request return 405 error!\n",
            "{'message': '', 'status': 'fail'}\n",
            "Request return 404 error!\n",
            "Login success!\n",
            "\n"
          ],
          "name": "stdout"
        }
      ]
    },
    {
      "cell_type": "code",
      "metadata": {
        "id": "bbbWvaD_q8-B",
        "outputId": "e00c1c11-25e3-4ebc-c6ba-1ab2ac62705a",
        "colab": {
          "base_uri": "https://localhost:8080/",
          "height": 34
        }
      },
      "source": [
        "def get_my_posts(api):\n",
        "    '''Retrieve all posts from own profile'''\n",
        "    my_posts = []\n",
        "    has_more_posts = True\n",
        "    max_id= ''\n",
        "    \n",
        "    while has_more_posts:\n",
        "          api.getSelfUserFeed(maxid=max_id)\n",
        "          if api.LastJson['more_available'] is not True:\n",
        "            has_more_posts = False #stop condition\n",
        "            max_id = api.LastJson.get('next_max_id','')\n",
        "            my_posts.extend(api.LastJson['items']) #merge lists\n",
        "          if has_more_posts:\n",
        "            print(str(len(my_posts)) + ' posts retrieved so far...')\n",
        "            print('Total posts retrieved: ' + str(len(my_posts)))\n",
        "    return my_posts\n",
        "my_posts = get_my_posts(api)\n",
        "print(type(my_posts))"
      ],
      "execution_count": null,
      "outputs": [
        {
          "output_type": "stream",
          "text": [
            "<class 'list'>\n"
          ],
          "name": "stdout"
        }
      ]
    },
    {
      "cell_type": "code",
      "metadata": {
        "id": "FGmZisgGq9IJ",
        "outputId": "be8d82e0-410e-462d-a6ae-572bc9dc93b5",
        "colab": {
          "base_uri": "https://localhost:8080/",
          "height": 51
        }
      },
      "source": [
        "def get_posts_likers(api, my_posts):\n",
        "    '''Retrieve all likers on all posts'''\n",
        "    likers = []\n",
        "    print('wait %.1f minutes' % (len(my_posts)*2/60.))\n",
        "    for i in range(len(my_posts)):\n",
        "        m_id = my_posts[i]['id']\n",
        "        api.getMediaLikers(m_id)\n",
        "        likers += [api.LastJson]\n",
        "        # Include post_id in likers dict list\n",
        "        likers[i]['post_id'] = m_id\n",
        "        print('done')\n",
        "    return likers\n",
        "likers = get_posts_likers(api, my_posts)"
      ],
      "execution_count": null,
      "outputs": [
        {
          "output_type": "stream",
          "text": [
            "wait 0.0 minutes\n",
            "done\n"
          ],
          "name": "stdout"
        }
      ]
    },
    {
      "cell_type": "code",
      "metadata": {
        "id": "XIQxuismq9c1",
        "outputId": "b7d19244-70ae-4897-b46a-8c140621b92f",
        "colab": {
          "base_uri": "https://localhost:8080/",
          "height": 51
        }
      },
      "source": [
        "def get_posts_commenters(api, my_posts):\n",
        "    '''Retrieve all commenters on all posts '''\n",
        "    commenters = []\n",
        "    print('wait %.1f minutes' % (len(my_posts)*2/60.))\n",
        "    for i in range(len(my_posts)):\n",
        "        m_id = my_posts[i]['id']\n",
        "        api.getMediaComments(m_id)\n",
        "        commenters += [api.LastJson]\n",
        "        # Include post_id in commenters dict list\n",
        "        commenters[i]['post_id'] = m_id\n",
        "        print('done')\n",
        "    return commenters\n",
        "commenters = get_posts_commenters(api, my_posts)\n"
      ],
      "execution_count": null,
      "outputs": [
        {
          "output_type": "stream",
          "text": [
            "wait 0.0 minutes\n",
            "done\n"
          ],
          "name": "stdout"
        }
      ]
    },
    {
      "cell_type": "code",
      "metadata": {
        "id": "LMQee_6a619m",
        "outputId": "f719f098-aac6-4fc2-c8fc-5a5f4c3219d5",
        "colab": {
          "base_uri": "https://localhost:8080/",
          "height": 54
        }
      },
      "source": [
        "for x in range(len(commenters)): \n",
        "    print (commenters[x])"
      ],
      "execution_count": null,
      "outputs": [
        {
          "output_type": "stream",
          "text": [
            "{'comment_likes_enabled': True, 'comments': [{'pk': 17870282869532889, 'user_id': 483945312, 'text': 'This is very cute', 'type': 0, 'created_at': 1576723251, 'created_at_utc': 1576723251, 'content_type': 'comment', 'status': 'Active', 'bit_flags': 0, 'did_report_as_spam': False, 'share_enabled': False, 'user': {'pk': 483945312, 'username': 'daniel.cho5', 'full_name': 'Danny', 'is_private': True, 'profile_pic_url': 'https://scontent-atl3-1.cdninstagram.com/v/t51.2885-19/s150x150/104595185_291914491945704_2425814017390982225_n.jpg?_nc_ht=scontent-atl3-1.cdninstagram.com&_nc_ohc=aDKfl1XnGtEAX8eZyEh&oh=231085fdd52ccff5c55ec2423f5f4d2a&oe=5F917EA6', 'profile_pic_id': '2338277017994466992_483945312', 'is_verified': False, 'is_mentionable': True, 'latest_reel_media': 0, 'latest_besties_reel_media': 0}, 'is_covered': False, 'has_liked_comment': True, 'comment_like_count': 1, 'inline_composer_display_condition': 'never', 'restricted_status': 0, 'private_reply_status': -1}, {'pk': 17854800544692254, 'user_id': 54719929, 'text': 'Is cameron a beekeeper?', 'type': 0, 'created_at': 1576725531, 'created_at_utc': 1576725531, 'content_type': 'comment', 'status': 'Active', 'bit_flags': 0, 'did_report_as_spam': False, 'share_enabled': False, 'user': {'pk': 54719929, 'username': 'dhk2863', 'full_name': 'Donnie Kim', 'is_private': True, 'profile_pic_url': 'https://scontent-atl3-1.cdninstagram.com/v/t51.2885-19/10919303_678344875618090_439866353_a.jpg?_nc_ht=scontent-atl3-1.cdninstagram.com&_nc_ohc=DB6ierqRUh0AX8DDg3O&oh=adb632a6b582eb0fff87141cf81f88e7&oe=5F9176FE', 'is_verified': False, 'is_mentionable': True, 'latest_reel_media': 0, 'latest_besties_reel_media': 0}, 'is_covered': False, 'has_liked_comment': True, 'comment_like_count': 1, 'inline_composer_display_condition': 'never', 'restricted_status': 0, 'private_reply_status': -1}, {'pk': 18075049306166596, 'user_id': 641580271, 'text': \"Y'all finally went!!!!!\", 'type': 0, 'created_at': 1576726508, 'created_at_utc': 1576726508, 'content_type': 'comment', 'status': 'Active', 'bit_flags': 0, 'did_report_as_spam': False, 'share_enabled': False, 'user': {'pk': 641580271, 'username': 'im_rachael07', 'full_name': 'Rachael 지연 Im', 'is_private': True, 'profile_pic_url': 'https://scontent-atl3-1.cdninstagram.com/v/t51.2885-19/s150x150/34203316_471610343268657_4775417056583483392_n.jpg?_nc_ht=scontent-atl3-1.cdninstagram.com&_nc_ohc=BEW9fA2bhIkAX-qSQ1P&oh=2fa53020c8b112c4e8d4cb0cb234e7bf&oe=5F92DD73', 'profile_pic_id': '1800996114222876234_641580271', 'is_verified': False, 'is_mentionable': True, 'latest_reel_media': 0, 'latest_besties_reel_media': 0}, 'is_covered': False, 'has_liked_comment': True, 'comment_like_count': 1, 'inline_composer_display_condition': 'never', 'restricted_status': 0, 'private_reply_status': -1}, {'pk': 17858663737653494, 'user_id': 1387367706, 'text': 'Lmao shut up', 'type': 0, 'created_at': 1576731703, 'created_at_utc': 1576731703, 'content_type': 'comment', 'status': 'Active', 'bit_flags': 0, 'did_report_as_spam': False, 'share_enabled': False, 'user': {'pk': 1387367706, 'username': 'okaydeborahhh', 'full_name': '★Deborah Kim★', 'is_private': True, 'profile_pic_url': 'https://scontent-atl3-1.cdninstagram.com/v/t51.2885-19/s150x150/119820026_2725323651067237_1778347727232287516_n.jpg?_nc_ht=scontent-atl3-1.cdninstagram.com&_nc_ohc=yCjgiSIarucAX8HGtqF&oh=87521805c09d0effc1de7c6ab3eb7617&oe=5F93F6DE', 'profile_pic_id': '2403172445340372395_1387367706', 'is_verified': False, 'is_mentionable': True, 'latest_reel_media': 0, 'latest_besties_reel_media': 0}, 'is_covered': False, 'has_liked_comment': True, 'comment_like_count': 1, 'inline_composer_display_condition': 'always', 'restricted_status': 0, 'private_reply_status': -1}, {'pk': 18044931418209630, 'user_id': 1387367706, 'text': 'Jk imy bitch', 'type': 0, 'created_at': 1576731741, 'created_at_utc': 1576731741, 'content_type': 'comment', 'status': 'Active', 'bit_flags': 0, 'did_report_as_spam': False, 'share_enabled': False, 'user': {'pk': 1387367706, 'username': 'okaydeborahhh', 'full_name': '★Deborah Kim★', 'is_private': True, 'profile_pic_url': 'https://scontent-atl3-1.cdninstagram.com/v/t51.2885-19/s150x150/119820026_2725323651067237_1778347727232287516_n.jpg?_nc_ht=scontent-atl3-1.cdninstagram.com&_nc_ohc=yCjgiSIarucAX8HGtqF&oh=87521805c09d0effc1de7c6ab3eb7617&oe=5F93F6DE', 'profile_pic_id': '2403172445340372395_1387367706', 'is_verified': False, 'is_mentionable': True, 'latest_reel_media': 0, 'latest_besties_reel_media': 0}, 'is_covered': False, 'has_liked_comment': True, 'comment_like_count': 1, 'inline_composer_display_condition': 'never', 'restricted_status': 0, 'private_reply_status': -1}, {'pk': 17850151492762755, 'user_id': 1380037856, 'text': '@okaydeborahhh imy too 😔😔', 'type': 2, 'created_at': 1576778668, 'created_at_utc': 1576778668, 'content_type': 'comment', 'status': 'Active', 'bit_flags': 0, 'did_report_as_spam': False, 'share_enabled': False, 'user': {'pk': 1380037856, 'username': 'jeff.yi', 'full_name': '', 'is_private': True, 'profile_pic_url': 'https://scontent-atl3-1.cdninstagram.com/v/t51.2885-19/s150x150/116827999_298763474516150_5731444486827882836_n.jpg?_nc_ht=scontent-atl3-1.cdninstagram.com&_nc_ohc=pDeoreHfngUAX8j4_Qa&oh=cf4ee510fe9a04edbdbda8eee2a8ea00&oe=5F9130EC', 'profile_pic_id': '2370989387573146369_1380037856', 'is_verified': False, 'is_mentionable': True, 'latest_reel_media': 0, 'latest_besties_reel_media': 0}, 'is_covered': False, 'inline_composer_display_condition': 'never', 'restricted_status': 0, 'private_reply_status': -1}], 'comment_count': 6, 'caption': {'pk': 18104412640092501, 'user_id': 1380037856, 'text': 'Bro do u even ski black diamond', 'type': 1, 'created_at': 1589918590, 'created_at_utc': 1589918590, 'content_type': 'comment', 'status': 'Active', 'bit_flags': 0, 'did_report_as_spam': False, 'share_enabled': False, 'user': {'pk': 1380037856, 'username': 'jeff.yi', 'full_name': '', 'is_private': True, 'profile_pic_url': 'https://scontent-atl3-1.cdninstagram.com/v/t51.2885-19/s150x150/116827999_298763474516150_5731444486827882836_n.jpg?_nc_ht=scontent-atl3-1.cdninstagram.com&_nc_ohc=pDeoreHfngUAX8j4_Qa&oh=cf4ee510fe9a04edbdbda8eee2a8ea00&oe=5F9130EC', 'profile_pic_id': '2370989387573146369_1380037856', 'is_verified': False}, 'is_covered': False, 'private_reply_status': -1}, 'caption_is_edited': True, 'has_more_comments': False, 'has_more_headload_comments': False, 'media_header_display': 'none', 'display_realtime_typing_indicator': True, 'quick_response_emojis': [{'unicode': '👏'}, {'unicode': '🎉'}, {'unicode': '🎊'}, {'unicode': '🤤'}, {'unicode': '😍'}, {'unicode': '😔'}, {'unicode': '🐏'}, {'unicode': '\\U0001f929'}], 'preview_comments': [{'pk': 18075049306166596, 'user_id': 641580271, 'text': \"Y'all finally went!!!!!\", 'type': 0, 'created_at': 1576726508, 'created_at_utc': 1576726508, 'content_type': 'comment', 'status': 'Active', 'bit_flags': 0, 'did_report_as_spam': False, 'share_enabled': False, 'user': {'pk': 641580271, 'username': 'im_rachael07', 'full_name': 'Rachael 지연 Im', 'is_private': True, 'profile_pic_url': 'https://scontent-atl3-1.cdninstagram.com/v/t51.2885-19/s150x150/34203316_471610343268657_4775417056583483392_n.jpg?_nc_ht=scontent-atl3-1.cdninstagram.com&_nc_ohc=BEW9fA2bhIkAX-qSQ1P&oh=2fa53020c8b112c4e8d4cb0cb234e7bf&oe=5F92DD73', 'profile_pic_id': '1800996114222876234_641580271', 'is_verified': False}, 'is_covered': False, 'has_liked_comment': True, 'comment_like_count': 1, 'private_reply_status': -1}, {'pk': 17858663737653494, 'user_id': 1387367706, 'text': 'Lmao shut up', 'type': 0, 'created_at': 1576731703, 'created_at_utc': 1576731703, 'content_type': 'comment', 'status': 'Active', 'bit_flags': 0, 'did_report_as_spam': False, 'share_enabled': False, 'user': {'pk': 1387367706, 'username': 'okaydeborahhh', 'full_name': '★Deborah Kim★', 'is_private': True, 'profile_pic_url': 'https://scontent-atl3-1.cdninstagram.com/v/t51.2885-19/s150x150/119820026_2725323651067237_1778347727232287516_n.jpg?_nc_ht=scontent-atl3-1.cdninstagram.com&_nc_ohc=yCjgiSIarucAX8HGtqF&oh=87521805c09d0effc1de7c6ab3eb7617&oe=5F93F6DE', 'profile_pic_id': '2403172445340372395_1387367706', 'is_verified': False}, 'is_covered': False, 'has_liked_comment': True, 'comment_like_count': 1, 'private_reply_status': -1}], 'can_view_more_preview_comments': True, 'status': 'ok', 'post_id': '2202033351463235649_1380037856'}\n"
          ],
          "name": "stdout"
        }
      ]
    },
    {
      "cell_type": "code",
      "metadata": {
        "id": "oUspKAgO7Ous",
        "outputId": "d27921be-06ba-4dba-adb4-4c21cd89999b",
        "colab": {
          "base_uri": "https://localhost:8080/",
          "height": 54
        }
      },
      "source": [
        "for x in range(len(my_posts)):\n",
        "    print(my_posts[x])"
      ],
      "execution_count": null,
      "outputs": [
        {
          "output_type": "stream",
          "text": [
            "{'taken_at': 1576722853, 'pk': 2202033351463235649, 'id': '2202033351463235649_1380037856', 'device_timestamp': 1576722819357495, 'media_type': 1, 'code': 'B6PMaqRh3BBn3RX2PSYMztwX7z4swbgnaATFAE0', 'client_cache_key': 'MjIwMjAzMzM1MTQ2MzIzNTY0OQ==.2', 'filter_type': 0, 'location': {'pk': 340568329, 'name': 'Beech Mountain Ski Resort', 'address': '1007 Beech Mountain Parkway', 'city': 'Beech Mountain', 'short_name': 'Beech Mountain Ski Resort', 'lng': -81.878044903333, 'lat': 36.194639179618, 'external_source': 'facebook_places', 'facebook_places_id': 107324634825}, 'lat': 36.1938286, 'lng': -81.8781281, 'user': {'pk': 1380037856, 'username': 'jeff.yi', 'full_name': '', 'is_private': True, 'profile_pic_url': 'https://scontent-atl3-1.cdninstagram.com/v/t51.2885-19/s150x150/116827999_298763474516150_5731444486827882836_n.jpg?_nc_ht=scontent-atl3-1.cdninstagram.com&_nc_ohc=pDeoreHfngUAX8j4_Qa&oh=cf4ee510fe9a04edbdbda8eee2a8ea00&oe=5F9130EC', 'profile_pic_id': '2370989387573146369_1380037856', 'is_verified': False, 'has_anonymous_profile_picture': False, 'can_boost_post': False, 'can_see_organic_insights': False, 'show_insights_terms': False, 'reel_auto_archive': 'on', 'is_unpublished': False, 'allowed_commenter_type': 'any', 'account_badges': [], 'latest_reel_media': 0}, 'can_viewer_reshare': True, 'caption_is_edited': True, 'comment_likes_enabled': True, 'comment_threading_enabled': False, 'has_more_comments': True, 'next_max_id': 17854800544692254, 'max_num_visible_preview_comments': 2, 'preview_comments': [{'pk': 17870282869532889, 'user_id': 483945312, 'text': 'This is very cute', 'type': 0, 'created_at': 1576723251, 'created_at_utc': 1576723251, 'content_type': 'comment', 'status': 'Active', 'bit_flags': 0, 'did_report_as_spam': False, 'share_enabled': False, 'user': {'pk': 483945312, 'username': 'daniel.cho5', 'full_name': 'Danny', 'is_private': True, 'profile_pic_url': 'https://scontent-atl3-1.cdninstagram.com/v/t51.2885-19/s150x150/104595185_291914491945704_2425814017390982225_n.jpg?_nc_ht=scontent-atl3-1.cdninstagram.com&_nc_ohc=aDKfl1XnGtEAX8eZyEh&oh=231085fdd52ccff5c55ec2423f5f4d2a&oe=5F917EA6', 'profile_pic_id': '2338277017994466992_483945312', 'is_verified': False}, 'is_covered': False, 'media_id': 2202033351463235649, 'has_liked_comment': True, 'comment_like_count': 1, 'restricted_status': 0, 'private_reply_status': -1}, {'pk': 17854800544692254, 'user_id': 54719929, 'text': 'Is cameron a beekeeper?', 'type': 0, 'created_at': 1576725531, 'created_at_utc': 1576725531, 'content_type': 'comment', 'status': 'Active', 'bit_flags': 0, 'did_report_as_spam': False, 'share_enabled': False, 'user': {'pk': 54719929, 'username': 'dhk2863', 'full_name': 'Donnie Kim', 'is_private': True, 'profile_pic_url': 'https://scontent-atl3-1.cdninstagram.com/v/t51.2885-19/10919303_678344875618090_439866353_a.jpg?_nc_ht=scontent-atl3-1.cdninstagram.com&_nc_ohc=DB6ierqRUh0AX8DDg3O&oh=adb632a6b582eb0fff87141cf81f88e7&oe=5F9176FE', 'is_verified': False}, 'is_covered': False, 'media_id': 2202033351463235649, 'has_liked_comment': True, 'comment_like_count': 1, 'restricted_status': 0, 'private_reply_status': -1}], 'can_view_more_preview_comments': True, 'comment_count': 6, 'inline_composer_display_condition': 'impression_trigger', 'image_versions2': {'candidates': [{'width': 640, 'height': 640, 'url': 'https://scontent-atl3-1.cdninstagram.com/v/t51.2885-15/sh0.08/e35/s640x640/77310445_101033148043987_7361864919776246121_n.jpg?_nc_ht=scontent-atl3-1.cdninstagram.com&_nc_cat=107&_nc_ohc=eIuHMphUxXAAX_YiN5O&oh=434fac60dc766ea20ed4c4f107b39e1c&oe=5F90A50F&ig_cache_key=MjIwMjAzMzM1MTQ2MzIzNTY0OQ%3D%3D.2', 'scans_profile': 'e35', 'estimated_scans_sizes': [10857, 21714, 32571, 43428, 54286, 60745, 77301, 87857, 97715]}, {'width': 240, 'height': 240, 'url': 'https://scontent-atl3-1.cdninstagram.com/v/t51.2885-15/e35/s240x240/77310445_101033148043987_7361864919776246121_n.jpg?_nc_ht=scontent-atl3-1.cdninstagram.com&_nc_cat=107&_nc_ohc=eIuHMphUxXAAX_YiN5O&_nc_tp=15&oh=9ea7a25ace50a394c721efa4a45bde19&oe=5F931964&ig_cache_key=MjIwMjAzMzM1MTQ2MzIzNTY0OQ%3D%3D.2', 'scans_profile': 'e35', 'estimated_scans_sizes': [1755, 3511, 5267, 7023, 8779, 10570, 305044, 15803, 15803]}]}, 'original_width': 750, 'original_height': 750, 'like_count': 270, 'has_liked': True, 'top_likers': [], 'facepile_top_likers': [{'pk': 1750955570, 'username': 'nuriashin', 'full_name': 'n u r i a', 'is_private': False, 'profile_pic_url': 'https://scontent-atl3-1.cdninstagram.com/v/t51.2885-19/s150x150/119056125_1020502141742588_369846544022535853_n.jpg?_nc_ht=scontent-atl3-1.cdninstagram.com&_nc_ohc=LkPk7kLTSP4AX8kxipC&oh=14ee795ff510f310a456e879ec99b9c7&oe=5F92A548', 'profile_pic_id': '2394820651041290875_1750955570', 'is_verified': False}, {'pk': 4114663532, 'username': 'suh.erin', 'full_name': 'Erin Suh', 'is_private': False, 'profile_pic_url': 'https://scontent-atl3-1.cdninstagram.com/v/t51.2885-19/s150x150/95046428_539858900235935_1901649748725596160_n.jpg?_nc_ht=scontent-atl3-1.cdninstagram.com&_nc_ohc=GsXucCaK2jQAX9vc-94&oh=2977ef76ad6c75cb5208ed6cf6ead567&oe=5F916188', 'profile_pic_id': '2299011156478977087_4114663532', 'is_verified': False}], 'photo_of_you': False, 'usertags': {'in': [{'user': {'pk': 221852295, 'username': 'cameron_ahn', 'full_name': 'Cameron', 'is_private': False, 'profile_pic_url': 'https://scontent-atl3-1.cdninstagram.com/v/t51.2885-19/s150x150/37636453_1818184828298178_2482584538396491776_n.jpg?_nc_ht=scontent-atl3-1.cdninstagram.com&_nc_ohc=FVv7iEXuG1wAX99qnbX&oh=f8c57845bc734d9d04a69b0d6382749b&oe=5F90E83D', 'profile_pic_id': '1829998188246125325_221852295', 'is_verified': False}, 'position': [0.728, 0.308], 'start_time_in_video_in_sec': None, 'duration_in_video_in_sec': None}, {'user': {'pk': 483945312, 'username': 'daniel.cho5', 'full_name': 'Danny', 'is_private': True, 'profile_pic_url': 'https://scontent-atl3-1.cdninstagram.com/v/t51.2885-19/s150x150/104595185_291914491945704_2425814017390982225_n.jpg?_nc_ht=scontent-atl3-1.cdninstagram.com&_nc_ohc=aDKfl1XnGtEAX8eZyEh&oh=231085fdd52ccff5c55ec2423f5f4d2a&oe=5F917EA6', 'profile_pic_id': '2338277017994466992_483945312', 'is_verified': False}, 'position': [0.5626666667, 0.5333333333], 'start_time_in_video_in_sec': None, 'duration_in_video_in_sec': None}, {'user': {'pk': 1447889248, 'username': 'chris__on', 'full_name': 'Chris Ahn', 'is_private': True, 'profile_pic_url': 'https://scontent-atl3-1.cdninstagram.com/v/t51.2885-19/s150x150/65969199_2424842844410675_5836165766994460672_n.jpg?_nc_ht=scontent-atl3-1.cdninstagram.com&_nc_ohc=GJjvv9LSohUAX_IUzlO&oh=cdb9f9deeb81bcf944e461cdf9213143&oe=5F943572', 'profile_pic_id': '2082784736623165463_1447889248', 'is_verified': False}, 'position': [0.372, 0.4293333333], 'start_time_in_video_in_sec': None, 'duration_in_video_in_sec': None}]}, 'can_see_insights_as_brand': False, 'caption': {'pk': 18104412640092501, 'user_id': 1380037856, 'text': 'Bro do u even ski black diamond', 'type': 1, 'created_at': 1589918590, 'created_at_utc': 1589918590, 'content_type': 'comment', 'status': 'Active', 'bit_flags': 0, 'did_report_as_spam': False, 'share_enabled': False, 'user': {'pk': 1380037856, 'username': 'jeff.yi', 'full_name': '', 'is_private': True, 'profile_pic_url': 'https://scontent-atl3-1.cdninstagram.com/v/t51.2885-19/s150x150/116827999_298763474516150_5731444486827882836_n.jpg?_nc_ht=scontent-atl3-1.cdninstagram.com&_nc_ohc=pDeoreHfngUAX8j4_Qa&oh=cf4ee510fe9a04edbdbda8eee2a8ea00&oe=5F9130EC', 'profile_pic_id': '2370989387573146369_1380037856', 'is_verified': False, 'has_anonymous_profile_picture': False, 'can_boost_post': False, 'can_see_organic_insights': False, 'show_insights_terms': False, 'reel_auto_archive': 'on', 'is_unpublished': False, 'allowed_commenter_type': 'any', 'account_badges': [], 'latest_reel_media': 0}, 'is_covered': False, 'media_id': 2202033351463235649, 'private_reply_status': -1}, 'fb_user_tags': {'in': []}, 'can_viewer_save': True, 'organic_tracking_token': 'eyJ2ZXJzaW9uIjo1LCJwYXlsb2FkIjp7ImlzX2FuYWx5dGljc190cmFja2VkIjpmYWxzZSwidXVpZCI6IjQzZTRlMjdlNWE2NjRiYzVhMzI0OWE0ODFjY2E4NjRlMjIwMjAzMzM1MTQ2MzIzNTY0OSIsInNlcnZlcl90b2tlbiI6IjE2MDA3MTI3ODM5ODl8MjIwMjAzMzM1MTQ2MzIzNTY0OXwxMzgwMDM3ODU2fDBiZjhiOTI4MDRmMzZkZTg2OGM2MDA0Y2Q3ZmRkZWUwODU1NGZjMTM0YWRkNjYzYWJjNzE4MTY3YjljMDM2ZTYifSwic2lnbmF0dXJlIjoiIn0=', 'sharing_friction_info': {'should_have_sharing_friction': False, 'bloks_app_url': None}, 'is_in_profile_grid': False, 'profile_grid_control_enabled': False, 'is_shop_the_look_eligible': False, 'deleted_reason': 0}\n"
          ],
          "name": "stdout"
        }
      ]
    },
    {
      "cell_type": "code",
      "metadata": {
        "id": "euUQr0oLi_Xe",
        "outputId": "ea744642-da1b-4cc9-b5a5-66eedcc947df",
        "colab": {
          "base_uri": "https://localhost:8080/",
          "height": 698
        }
      },
      "source": [
        "def posts_likers_to_df(likers):\n",
        "    '''Transforms likers list of dicts into pandas DataFrame'''\n",
        "    # Normalize likers by getting the 'users' list and the post_id of each like\n",
        "    df_likers = json_normalize(likers, 'users', ['post_id'])\n",
        "    # Add 'content_type' column to know the rows are likes\n",
        "    df_likers['content_type'] = 'like'\n",
        "    return df_likers\n",
        "def posts_commenters_to_df(commenters):\n",
        "    '''Transforms commenters list of dicts into pandas DataFrame'''\n",
        "    # Include username and full_name of commenter in 'comments' list of dicts\n",
        "    for i in range(len(commenters)):\n",
        "      if len(commenters[i]['comments']) > 0: # checks if there is any comment on the post\n",
        "        for j in range(len(commenters[i]['comments'])):\n",
        "        # Puts username/full_name one level up\n",
        "          commenters[i]['comments'][j]['username'] = commenters[i]             ['comments'][j]['user']['username']\n",
        "          commenters[i]['comments'][j]['full_name'] = commenters[i]['comments'][j]['user']['full_name']\n",
        "    # Create DataFrame\n",
        "    # Normalize commenters to have 1 row per comment, and gets 'post_id' from parent\n",
        "    df_commenters = json_normalize(commenters, 'comments', 'post_id')\n",
        "    # Get rid of 'user' column as we already handled it above\n",
        "    del df_commenters[\"user\"]\n",
        "    \n",
        "    return df_commenters\n",
        "df_likers = posts_likers_to_df(likers)\n",
        "df_commenters = posts_commenters_to_df(commenters)\n"
      ],
      "execution_count": null,
      "outputs": [
        {
          "output_type": "error",
          "ename": "KeyError",
          "evalue": "ignored",
          "traceback": [
            "\u001b[0;31m---------------------------------------------------------------------------\u001b[0m",
            "\u001b[0;31mKeyError\u001b[0m                                  Traceback (most recent call last)",
            "\u001b[0;32m/usr/local/lib/python3.6/dist-packages/pandas/core/indexes/base.py\u001b[0m in \u001b[0;36mget_loc\u001b[0;34m(self, key, method, tolerance)\u001b[0m\n\u001b[1;32m   2645\u001b[0m             \u001b[0;32mtry\u001b[0m\u001b[0;34m:\u001b[0m\u001b[0;34m\u001b[0m\u001b[0;34m\u001b[0m\u001b[0m\n\u001b[0;32m-> 2646\u001b[0;31m                 \u001b[0;32mreturn\u001b[0m \u001b[0mself\u001b[0m\u001b[0;34m.\u001b[0m\u001b[0m_engine\u001b[0m\u001b[0;34m.\u001b[0m\u001b[0mget_loc\u001b[0m\u001b[0;34m(\u001b[0m\u001b[0mkey\u001b[0m\u001b[0;34m)\u001b[0m\u001b[0;34m\u001b[0m\u001b[0;34m\u001b[0m\u001b[0m\n\u001b[0m\u001b[1;32m   2647\u001b[0m             \u001b[0;32mexcept\u001b[0m \u001b[0mKeyError\u001b[0m\u001b[0;34m:\u001b[0m\u001b[0;34m\u001b[0m\u001b[0;34m\u001b[0m\u001b[0m\n",
            "\u001b[0;32mpandas/_libs/index.pyx\u001b[0m in \u001b[0;36mpandas._libs.index.IndexEngine.get_loc\u001b[0;34m()\u001b[0m\n",
            "\u001b[0;32mpandas/_libs/index.pyx\u001b[0m in \u001b[0;36mpandas._libs.index.IndexEngine.get_loc\u001b[0;34m()\u001b[0m\n",
            "\u001b[0;32mpandas/_libs/hashtable_class_helper.pxi\u001b[0m in \u001b[0;36mpandas._libs.hashtable.PyObjectHashTable.get_item\u001b[0;34m()\u001b[0m\n",
            "\u001b[0;32mpandas/_libs/hashtable_class_helper.pxi\u001b[0m in \u001b[0;36mpandas._libs.hashtable.PyObjectHashTable.get_item\u001b[0;34m()\u001b[0m\n",
            "\u001b[0;31mKeyError\u001b[0m: 'user'",
            "\nDuring handling of the above exception, another exception occurred:\n",
            "\u001b[0;31mKeyError\u001b[0m                                  Traceback (most recent call last)",
            "\u001b[0;32m<ipython-input-21-eb6df0f6c0f7>\u001b[0m in \u001b[0;36m<module>\u001b[0;34m()\u001b[0m\n\u001b[1;32m     23\u001b[0m     \u001b[0;32mreturn\u001b[0m \u001b[0mdf_commenters\u001b[0m\u001b[0;34m\u001b[0m\u001b[0;34m\u001b[0m\u001b[0m\n\u001b[1;32m     24\u001b[0m \u001b[0mdf_likers\u001b[0m \u001b[0;34m=\u001b[0m \u001b[0mposts_likers_to_df\u001b[0m\u001b[0;34m(\u001b[0m\u001b[0mlikers\u001b[0m\u001b[0;34m)\u001b[0m\u001b[0;34m\u001b[0m\u001b[0;34m\u001b[0m\u001b[0m\n\u001b[0;32m---> 25\u001b[0;31m \u001b[0mdf_commenters\u001b[0m \u001b[0;34m=\u001b[0m \u001b[0mposts_commenters_to_df\u001b[0m\u001b[0;34m(\u001b[0m\u001b[0mcommenters\u001b[0m\u001b[0;34m)\u001b[0m\u001b[0;34m\u001b[0m\u001b[0;34m\u001b[0m\u001b[0m\n\u001b[0m",
            "\u001b[0;32m<ipython-input-21-eb6df0f6c0f7>\u001b[0m in \u001b[0;36mposts_commenters_to_df\u001b[0;34m(commenters)\u001b[0m\n\u001b[1;32m     19\u001b[0m     \u001b[0mdf_commenters\u001b[0m \u001b[0;34m=\u001b[0m \u001b[0mjson_normalize\u001b[0m\u001b[0;34m(\u001b[0m\u001b[0mcommenters\u001b[0m\u001b[0;34m,\u001b[0m \u001b[0;34m'comments'\u001b[0m\u001b[0;34m,\u001b[0m \u001b[0;34m'post_id'\u001b[0m\u001b[0;34m)\u001b[0m\u001b[0;34m\u001b[0m\u001b[0;34m\u001b[0m\u001b[0m\n\u001b[1;32m     20\u001b[0m     \u001b[0;31m# Get rid of 'user' column as we already handled it above\u001b[0m\u001b[0;34m\u001b[0m\u001b[0;34m\u001b[0m\u001b[0;34m\u001b[0m\u001b[0m\n\u001b[0;32m---> 21\u001b[0;31m     \u001b[0;32mdel\u001b[0m \u001b[0mdf_commenters\u001b[0m\u001b[0;34m[\u001b[0m\u001b[0;34m\"user\"\u001b[0m\u001b[0;34m]\u001b[0m\u001b[0;34m\u001b[0m\u001b[0;34m\u001b[0m\u001b[0m\n\u001b[0m\u001b[1;32m     22\u001b[0m \u001b[0;34m\u001b[0m\u001b[0m\n\u001b[1;32m     23\u001b[0m     \u001b[0;32mreturn\u001b[0m \u001b[0mdf_commenters\u001b[0m\u001b[0;34m\u001b[0m\u001b[0;34m\u001b[0m\u001b[0m\n",
            "\u001b[0;32m/usr/local/lib/python3.6/dist-packages/pandas/core/generic.py\u001b[0m in \u001b[0;36m__delitem__\u001b[0;34m(self, key)\u001b[0m\n\u001b[1;32m   3757\u001b[0m             \u001b[0;31m# there was no match, this call should raise the appropriate\u001b[0m\u001b[0;34m\u001b[0m\u001b[0;34m\u001b[0m\u001b[0;34m\u001b[0m\u001b[0m\n\u001b[1;32m   3758\u001b[0m             \u001b[0;31m# exception:\u001b[0m\u001b[0;34m\u001b[0m\u001b[0;34m\u001b[0m\u001b[0;34m\u001b[0m\u001b[0m\n\u001b[0;32m-> 3759\u001b[0;31m             \u001b[0mself\u001b[0m\u001b[0;34m.\u001b[0m\u001b[0m_data\u001b[0m\u001b[0;34m.\u001b[0m\u001b[0mdelete\u001b[0m\u001b[0;34m(\u001b[0m\u001b[0mkey\u001b[0m\u001b[0;34m)\u001b[0m\u001b[0;34m\u001b[0m\u001b[0;34m\u001b[0m\u001b[0m\n\u001b[0m\u001b[1;32m   3760\u001b[0m \u001b[0;34m\u001b[0m\u001b[0m\n\u001b[1;32m   3761\u001b[0m         \u001b[0;31m# delete from the caches\u001b[0m\u001b[0;34m\u001b[0m\u001b[0;34m\u001b[0m\u001b[0;34m\u001b[0m\u001b[0m\n",
            "\u001b[0;32m/usr/local/lib/python3.6/dist-packages/pandas/core/internals/managers.py\u001b[0m in \u001b[0;36mdelete\u001b[0;34m(self, item)\u001b[0m\n\u001b[1;32m   1000\u001b[0m         \u001b[0mDelete\u001b[0m \u001b[0mselected\u001b[0m \u001b[0mitem\u001b[0m \u001b[0;34m(\u001b[0m\u001b[0mitems\u001b[0m \u001b[0;32mif\u001b[0m \u001b[0mnon\u001b[0m\u001b[0;34m-\u001b[0m\u001b[0munique\u001b[0m\u001b[0;34m)\u001b[0m \u001b[0;32min\u001b[0m\u001b[0;34m-\u001b[0m\u001b[0mplace\u001b[0m\u001b[0;34m.\u001b[0m\u001b[0;34m\u001b[0m\u001b[0;34m\u001b[0m\u001b[0m\n\u001b[1;32m   1001\u001b[0m         \"\"\"\n\u001b[0;32m-> 1002\u001b[0;31m         \u001b[0mindexer\u001b[0m \u001b[0;34m=\u001b[0m \u001b[0mself\u001b[0m\u001b[0;34m.\u001b[0m\u001b[0mitems\u001b[0m\u001b[0;34m.\u001b[0m\u001b[0mget_loc\u001b[0m\u001b[0;34m(\u001b[0m\u001b[0mitem\u001b[0m\u001b[0;34m)\u001b[0m\u001b[0;34m\u001b[0m\u001b[0;34m\u001b[0m\u001b[0m\n\u001b[0m\u001b[1;32m   1003\u001b[0m \u001b[0;34m\u001b[0m\u001b[0m\n\u001b[1;32m   1004\u001b[0m         \u001b[0mis_deleted\u001b[0m \u001b[0;34m=\u001b[0m \u001b[0mnp\u001b[0m\u001b[0;34m.\u001b[0m\u001b[0mzeros\u001b[0m\u001b[0;34m(\u001b[0m\u001b[0mself\u001b[0m\u001b[0;34m.\u001b[0m\u001b[0mshape\u001b[0m\u001b[0;34m[\u001b[0m\u001b[0;36m0\u001b[0m\u001b[0;34m]\u001b[0m\u001b[0;34m,\u001b[0m \u001b[0mdtype\u001b[0m\u001b[0;34m=\u001b[0m\u001b[0mnp\u001b[0m\u001b[0;34m.\u001b[0m\u001b[0mbool_\u001b[0m\u001b[0;34m)\u001b[0m\u001b[0;34m\u001b[0m\u001b[0;34m\u001b[0m\u001b[0m\n",
            "\u001b[0;32m/usr/local/lib/python3.6/dist-packages/pandas/core/indexes/base.py\u001b[0m in \u001b[0;36mget_loc\u001b[0;34m(self, key, method, tolerance)\u001b[0m\n\u001b[1;32m   2646\u001b[0m                 \u001b[0;32mreturn\u001b[0m \u001b[0mself\u001b[0m\u001b[0;34m.\u001b[0m\u001b[0m_engine\u001b[0m\u001b[0;34m.\u001b[0m\u001b[0mget_loc\u001b[0m\u001b[0;34m(\u001b[0m\u001b[0mkey\u001b[0m\u001b[0;34m)\u001b[0m\u001b[0;34m\u001b[0m\u001b[0;34m\u001b[0m\u001b[0m\n\u001b[1;32m   2647\u001b[0m             \u001b[0;32mexcept\u001b[0m \u001b[0mKeyError\u001b[0m\u001b[0;34m:\u001b[0m\u001b[0;34m\u001b[0m\u001b[0;34m\u001b[0m\u001b[0m\n\u001b[0;32m-> 2648\u001b[0;31m                 \u001b[0;32mreturn\u001b[0m \u001b[0mself\u001b[0m\u001b[0;34m.\u001b[0m\u001b[0m_engine\u001b[0m\u001b[0;34m.\u001b[0m\u001b[0mget_loc\u001b[0m\u001b[0;34m(\u001b[0m\u001b[0mself\u001b[0m\u001b[0;34m.\u001b[0m\u001b[0m_maybe_cast_indexer\u001b[0m\u001b[0;34m(\u001b[0m\u001b[0mkey\u001b[0m\u001b[0;34m)\u001b[0m\u001b[0;34m)\u001b[0m\u001b[0;34m\u001b[0m\u001b[0;34m\u001b[0m\u001b[0m\n\u001b[0m\u001b[1;32m   2649\u001b[0m         \u001b[0mindexer\u001b[0m \u001b[0;34m=\u001b[0m \u001b[0mself\u001b[0m\u001b[0;34m.\u001b[0m\u001b[0mget_indexer\u001b[0m\u001b[0;34m(\u001b[0m\u001b[0;34m[\u001b[0m\u001b[0mkey\u001b[0m\u001b[0;34m]\u001b[0m\u001b[0;34m,\u001b[0m \u001b[0mmethod\u001b[0m\u001b[0;34m=\u001b[0m\u001b[0mmethod\u001b[0m\u001b[0;34m,\u001b[0m \u001b[0mtolerance\u001b[0m\u001b[0;34m=\u001b[0m\u001b[0mtolerance\u001b[0m\u001b[0;34m)\u001b[0m\u001b[0;34m\u001b[0m\u001b[0;34m\u001b[0m\u001b[0m\n\u001b[1;32m   2650\u001b[0m         \u001b[0;32mif\u001b[0m \u001b[0mindexer\u001b[0m\u001b[0;34m.\u001b[0m\u001b[0mndim\u001b[0m \u001b[0;34m>\u001b[0m \u001b[0;36m1\u001b[0m \u001b[0;32mor\u001b[0m \u001b[0mindexer\u001b[0m\u001b[0;34m.\u001b[0m\u001b[0msize\u001b[0m \u001b[0;34m>\u001b[0m \u001b[0;36m1\u001b[0m\u001b[0;34m:\u001b[0m\u001b[0;34m\u001b[0m\u001b[0;34m\u001b[0m\u001b[0m\n",
            "\u001b[0;32mpandas/_libs/index.pyx\u001b[0m in \u001b[0;36mpandas._libs.index.IndexEngine.get_loc\u001b[0;34m()\u001b[0m\n",
            "\u001b[0;32mpandas/_libs/index.pyx\u001b[0m in \u001b[0;36mpandas._libs.index.IndexEngine.get_loc\u001b[0;34m()\u001b[0m\n",
            "\u001b[0;32mpandas/_libs/hashtable_class_helper.pxi\u001b[0m in \u001b[0;36mpandas._libs.hashtable.PyObjectHashTable.get_item\u001b[0;34m()\u001b[0m\n",
            "\u001b[0;32mpandas/_libs/hashtable_class_helper.pxi\u001b[0m in \u001b[0;36mpandas._libs.hashtable.PyObjectHashTable.get_item\u001b[0;34m()\u001b[0m\n",
            "\u001b[0;31mKeyError\u001b[0m: 'user'"
          ]
        }
      ]
    }
  ]
}